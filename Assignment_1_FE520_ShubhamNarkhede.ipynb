{
 "cells": [
  {
   "cell_type": "markdown",
   "metadata": {
    "toc": true
   },
   "source": [
    "<h1>Table of Contents<span class=\"tocSkip\"></span></h1>\n",
    "<div class=\"toc\"><ul class=\"toc-item\"><li><span><a href=\"#Practise-String-Literal\" data-toc-modified-id=\"Practise-String-Literal-1\"><span class=\"toc-item-num\">1&nbsp;&nbsp;</span>Practise String Literal</a></span><ul class=\"toc-item\"><li><span><a href=\"#Write-a-program-that-prints-the-following-talking:\" data-toc-modified-id=\"Write-a-program-that-prints-the-following-talking:-1.1\"><span class=\"toc-item-num\">1.1&nbsp;&nbsp;</span>Write a program that prints the following talking:</a></span></li><li><span><a href=\"#Write-a-Python-program-to-print-the-following-string-in-a-specific-format:\" data-toc-modified-id=\"Write-a-Python-program-to-print-the-following-string-in-a-specific-format:-1.2\"><span class=\"toc-item-num\">1.2&nbsp;&nbsp;</span>Write a Python program to print the following string in a specific format:</a></span></li><li><span><a href=\"#print-the-following-table:\" data-toc-modified-id=\"print-the-following-table:-1.3\"><span class=\"toc-item-num\">1.3&nbsp;&nbsp;</span>print the following table:</a></span></li><li><span><a href=\"#print-the-following-file-path:\" data-toc-modified-id=\"print-the-following-file-path:-1.4\"><span class=\"toc-item-num\">1.4&nbsp;&nbsp;</span>print the following file path:</a></span></li></ul></li><li><span><a href=\"#Practise-Sequence-Operation-And-String-Method\" data-toc-modified-id=\"Practise-Sequence-Operation-And-String-Method-2\"><span class=\"toc-item-num\">2&nbsp;&nbsp;</span>Practise Sequence Operation And String Method</a></span><ul class=\"toc-item\"><li><span><a href=\"#Given-the-string-s-=-&quot;PythonProgramming&quot;,-extract-and-print-the-first-6-characters.\" data-toc-modified-id=\"Given-the-string-s-=-&quot;PythonProgramming&quot;,-extract-and-print-the-first-6-characters.-2.1\"><span class=\"toc-item-num\">2.1&nbsp;&nbsp;</span>Given the string s = \"PythonProgramming\", extract and print the first 6 characters.</a></span></li><li><span><a href=\"#For-the-string-s-=-&quot;PythonProgramming&quot;,-create-a-new-string-where-the-first-and-last-characters-have-been-exchanged.\" data-toc-modified-id=\"For-the-string-s-=-&quot;PythonProgramming&quot;,-create-a-new-string-where-the-first-and-last-characters-have-been-exchanged.-2.2\"><span class=\"toc-item-num\">2.2&nbsp;&nbsp;</span>For the string s = \"PythonProgramming\", create a new string where the first and last characters have been exchanged.</a></span></li><li><span><a href=\"#For-the-string-s-=-&quot;PythonProgramming&quot;,-find-and-print-the-index-of-the-first-occurrence-of-the-letter-&quot;o&quot;.\" data-toc-modified-id=\"For-the-string-s-=-&quot;PythonProgramming&quot;,-find-and-print-the-index-of-the-first-occurrence-of-the-letter-&quot;o&quot;.-2.3\"><span class=\"toc-item-num\">2.3&nbsp;&nbsp;</span>For the string s = \"PythonProgramming\", find and print the index of the first occurrence of the letter \"o\".</a></span></li><li><span><a href=\"#Given-the-string-s-=-&quot;PythonProgramming&quot;,-create-a-new-string-where-all-occurrences-of-the-letter-&quot;o&quot;-are-replaced-with-the-letter-&quot;a&quot;.\" data-toc-modified-id=\"Given-the-string-s-=-&quot;PythonProgramming&quot;,-create-a-new-string-where-all-occurrences-of-the-letter-&quot;o&quot;-are-replaced-with-the-letter-&quot;a&quot;.-2.4\"><span class=\"toc-item-num\">2.4&nbsp;&nbsp;</span>Given the string s = \"PythonProgramming\", create a new string where all occurrences of the letter \"o\" are replaced with the letter \"a\".</a></span></li><li><span><a href=\"#For-the-string-s-=-&quot;PythonProgramming&quot;,-split-the-string-into-two-equal-halves.-If-the-string-has-an-odd-length,-the-first-half-should-have-one-more-character-than-the-second-half.\" data-toc-modified-id=\"For-the-string-s-=-&quot;PythonProgramming&quot;,-split-the-string-into-two-equal-halves.-If-the-string-has-an-odd-length,-the-first-half-should-have-one-more-character-than-the-second-half.-2.5\"><span class=\"toc-item-num\">2.5&nbsp;&nbsp;</span>For the string s = \"PythonProgramming\", split the string into two equal halves. If the string has an odd length, the first half should have one more character than the second half.</a></span></li><li><span><a href=\"#Given-the-string-s-=-&quot;Python&quot;,-t-=-&quot;lool&quot;,-check-if-the-string-is-a-palindrome.-A-palindrome-is-a-word,-phrase,-number,-or-other-sequences-of-characters-that-reads-the-same-forward-and-backward-(ignoring-spaces,-punctuation,-and-capitalization).\" data-toc-modified-id=\"Given-the-string-s-=-&quot;Python&quot;,-t-=-&quot;lool&quot;,-check-if-the-string-is-a-palindrome.-A-palindrome-is-a-word,-phrase,-number,-or-other-sequences-of-characters-that-reads-the-same-forward-and-backward-(ignoring-spaces,-punctuation,-and-capitalization).-2.6\"><span class=\"toc-item-num\">2.6&nbsp;&nbsp;</span>Given the string s = \"Python\", t = \"lool\", check if the string is a palindrome. A palindrome is a word, phrase, number, or other sequences of characters that reads the same forward and backward (ignoring spaces, punctuation, and capitalization).</a></span></li></ul></li><li><span><a href=\"#Practise-Number\" data-toc-modified-id=\"Practise-Number-3\"><span class=\"toc-item-num\">3&nbsp;&nbsp;</span>Practise Number</a></span><ul class=\"toc-item\"><li><span><a href=\"#Given-two-numbers-a-=-25-and-b-=-7,-write-a-program-to-find-the-quotient-and-remainder-when-a-is-divided-by-b.\" data-toc-modified-id=\"Given-two-numbers-a-=-25-and-b-=-7,-write-a-program-to-find-the-quotient-and-remainder-when-a-is-divided-by-b.-3.1\"><span class=\"toc-item-num\">3.1&nbsp;&nbsp;</span>Given two numbers a = 25 and b = 7, write a program to find the quotient and remainder when a is divided by b.</a></span></li><li><span><a href=\"#Check-if-a-number-n1-=-123,-n2-=-122-are-even-or-odd.\" data-toc-modified-id=\"Check-if-a-number-n1-=-123,-n2-=-122-are-even-or-odd.-3.2\"><span class=\"toc-item-num\">3.2&nbsp;&nbsp;</span>Check if a number n1 = 123, n2 = 122 are even or odd.</a></span></li><li><span><a href=\"#Given-a-number-n-=-4567,-find-the-last-two-digits-of-the-number\" data-toc-modified-id=\"Given-a-number-n-=-4567,-find-the-last-two-digits-of-the-number-3.3\"><span class=\"toc-item-num\">3.3&nbsp;&nbsp;</span>Given a number n = 4567, find the last two digits of the number</a></span></li></ul></li><li><span><a href=\"#Practise-Formatting\" data-toc-modified-id=\"Practise-Formatting-4\"><span class=\"toc-item-num\">4&nbsp;&nbsp;</span>Practise Formatting</a></span><ul class=\"toc-item\"><li><span><a href=\"#Given-two-variables-name-=-&quot;Alice&quot;-and-age-=-30,-use-an-f-string-to-print-the-following-message:-&quot;Hello,-my-name-is-Alice-and-I-am-30-years-old.&quot;\" data-toc-modified-id=\"Given-two-variables-name-=-&quot;Alice&quot;-and-age-=-30,-use-an-f-string-to-print-the-following-message:-&quot;Hello,-my-name-is-Alice-and-I-am-30-years-old.&quot;-4.1\"><span class=\"toc-item-num\">4.1&nbsp;&nbsp;</span>Given two variables name = \"Alice\" and age = 30, use an f-string to print the following message: \"Hello, my name is Alice and I am 30 years old.\"</a></span></li><li><span><a href=\"#Given-two-variables-hours-=-5-and-rate-=-20,-use-an-f-string-to-calculate-and-print-the-total-pay.-The-message-should-be:-&quot;For-5-hours-of-work-at-$20-per-hour,-you-will-earn-$100.&quot;\" data-toc-modified-id=\"Given-two-variables-hours-=-5-and-rate-=-20,-use-an-f-string-to-calculate-and-print-the-total-pay.-The-message-should-be:-&quot;For-5-hours-of-work-at-$20-per-hour,-you-will-earn-$100.&quot;-4.2\"><span class=\"toc-item-num\">4.2&nbsp;&nbsp;</span>Given two variables hours = 5 and rate = 20, use an f-string to calculate and print the total pay. The message should be: \"For 5 hours of work at $20 per hour, you will earn $100.\"</a></span></li></ul></li><li><span><a href=\"#Practise-List\" data-toc-modified-id=\"Practise-List-5\"><span class=\"toc-item-num\">5&nbsp;&nbsp;</span>Practise List</a></span><ul class=\"toc-item\"><li><span><a href=\"#Given-a-list-fruits-=-[&quot;apple&quot;,-&quot;banana&quot;,-&quot;cherry&quot;],-add-the-fruit-&quot;orange&quot;-to-the-end-of-the-list.\" data-toc-modified-id=\"Given-a-list-fruits-=-[&quot;apple&quot;,-&quot;banana&quot;,-&quot;cherry&quot;],-add-the-fruit-&quot;orange&quot;-to-the-end-of-the-list.-5.1\"><span class=\"toc-item-num\">5.1&nbsp;&nbsp;</span>Given a list fruits = [\"apple\", \"banana\", \"cherry\"], add the fruit \"orange\" to the end of the list.</a></span></li><li><span><a href=\"#Given-a-list-colors-=-[&quot;red&quot;,-&quot;blue&quot;,-&quot;green&quot;],-insert-the-color-&quot;yellow&quot;-at-the-second-position.\" data-toc-modified-id=\"Given-a-list-colors-=-[&quot;red&quot;,-&quot;blue&quot;,-&quot;green&quot;],-insert-the-color-&quot;yellow&quot;-at-the-second-position.-5.2\"><span class=\"toc-item-num\">5.2&nbsp;&nbsp;</span>Given a list colors = [\"red\", \"blue\", \"green\"], insert the color \"yellow\" at the second position.</a></span></li><li><span><a href=\"#Given-a-list-items-=-[10,-20,-30,-40,-50],-remove-the-third-item-from-the-list.\" data-toc-modified-id=\"Given-a-list-items-=-[10,-20,-30,-40,-50],-remove-the-third-item-from-the-list.-5.3\"><span class=\"toc-item-num\">5.3&nbsp;&nbsp;</span>Given a list items = [10, 20, 30, 40, 50], remove the third item from the list.</a></span></li><li><span><a href=\"#remove-empty-strings-from-the-list-of-strings.\" data-toc-modified-id=\"remove-empty-strings-from-the-list-of-strings.-5.4\"><span class=\"toc-item-num\">5.4&nbsp;&nbsp;</span>remove empty strings from the list of strings.</a></span></li><li><span><a href=\"#add-new-item-to-list-after-a-specified-item\" data-toc-modified-id=\"add-new-item-to-list-after-a-specified-item-5.5\"><span class=\"toc-item-num\">5.5&nbsp;&nbsp;</span>add new item to list after a specified item</a></span></li><li><span><a href=\"#List-copy\" data-toc-modified-id=\"List-copy-5.6\"><span class=\"toc-item-num\">5.6&nbsp;&nbsp;</span>List copy</a></span></li><li><span><a href=\"#List-copy\" data-toc-modified-id=\"List-copy-5.7\"><span class=\"toc-item-num\">5.7&nbsp;&nbsp;</span>List copy</a></span></li></ul></li></ul></div>"
   ]
  },
  {
   "cell_type": "markdown",
   "metadata": {},
   "source": [
    "# Practise String Literal"
   ]
  },
  {
   "cell_type": "markdown",
   "metadata": {},
   "source": [
    "## Write a program that prints the following talking:\n",
    "  \"Hello,\" she said. \\\n",
    "  He replied, \"What's up?\""
   ]
  },
  {
   "cell_type": "code",
   "execution_count": 1,
   "metadata": {},
   "outputs": [
    {
     "name": "stdout",
     "output_type": "stream",
     "text": [
      "\"Hello,\" she said.\n",
      "He replied, \"What's up?\"\n"
     ]
    }
   ],
   "source": [
    "print(\"\\\"Hello,\\\" she said.\")\n",
    "print(\"He replied, \\\"What's up?\\\"\")\n"
   ]
  },
  {
   "cell_type": "markdown",
   "metadata": {},
   "source": [
    "## Write a Python program to print the following string in a specific format:\n",
    "    Twinkle, twinkle, little star,\n",
    "        How I wonder what you are!\n",
    "            Up above the world so high,\n",
    "            Like a diamond in the sky.\n",
    "    Twinkle, twinkle, little star,\n",
    "        How I wonder what you are!"
   ]
  },
  {
   "cell_type": "code",
   "execution_count": 2,
   "metadata": {},
   "outputs": [
    {
     "name": "stdout",
     "output_type": "stream",
     "text": [
      "Twinkle, twinkle, little star,\n",
      "    How I wonder what you are!\n",
      "        Up above the world so high,\n",
      "        Like a diamond in the sky.\n",
      "Twinkle, twinkle, little star,\n",
      "    How I wonder what you are!\n"
     ]
    }
   ],
   "source": [
    "print(\"Twinkle, twinkle, little star,\")\n",
    "print(\"    How I wonder what you are!\")\n",
    "print(\"        Up above the world so high,\")\n",
    "print(\"        Like a diamond in the sky.\")\n",
    "print(\"Twinkle, twinkle, little star,\")\n",
    "print(\"    How I wonder what you are!\")\n"
   ]
  },
  {
   "cell_type": "markdown",
   "metadata": {},
   "source": [
    "## print the following table: \n",
    "  Name  &nbsp;   Age  &nbsp;   Occupation \\\n",
    "  ------------------------- \\\n",
    "  Alice  &nbsp; &nbsp; 28  &nbsp;&nbsp;&nbsp;    Engineer \\\n",
    "  Bob  &nbsp;&nbsp;&nbsp;&nbsp; 34   &nbsp;&nbsp;&nbsp; Doctor \\\n",
    "  (note that there is empty space between each word)"
   ]
  },
  {
   "cell_type": "code",
   "execution_count": 3,
   "metadata": {},
   "outputs": [
    {
     "name": "stdout",
     "output_type": "stream",
     "text": [
      "Name    Age     Occupation\n",
      "-------------------------\n",
      "Alice   28      Engineer\n",
      "Bob     34      Doctor\n"
     ]
    }
   ],
   "source": [
    "print(\"Name    Age     Occupation\")\n",
    "print(\"-------------------------\")\n",
    "print(\"Alice   28      Engineer\")\n",
    "print(\"Bob     34      Doctor\")\n"
   ]
  },
  {
   "cell_type": "markdown",
   "metadata": {},
   "source": [
    "## print the following file path: \n",
    "  C:\\Users\\John\\Documents\\file.txt"
   ]
  },
  {
   "cell_type": "code",
   "execution_count": 4,
   "metadata": {},
   "outputs": [
    {
     "name": "stdout",
     "output_type": "stream",
     "text": [
      "C:\\Users\\John\\Documents\\file.txt\n"
     ]
    }
   ],
   "source": [
    "file_path = r'C:\\Users\\John\\Documents\\file.txt'\n",
    "print(file_path)\n"
   ]
  },
  {
   "cell_type": "markdown",
   "metadata": {},
   "source": [
    "# Practise Sequence Operation And String Method"
   ]
  },
  {
   "cell_type": "markdown",
   "metadata": {},
   "source": [
    "## Given the string s = \"PythonProgramming\", extract and print the first 6 characters."
   ]
  },
  {
   "cell_type": "code",
   "execution_count": 5,
   "metadata": {},
   "outputs": [
    {
     "name": "stdout",
     "output_type": "stream",
     "text": [
      "Python\n"
     ]
    }
   ],
   "source": [
    "s = \"PythonProgramming\"\n",
    "first_six_characters = s[:6]\n",
    "print(first_six_characters)\n"
   ]
  },
  {
   "cell_type": "markdown",
   "metadata": {},
   "source": [
    "## For the string s = \"PythonProgramming\", create a new string where the first and last characters have been exchanged."
   ]
  },
  {
   "cell_type": "code",
   "execution_count": 1,
   "metadata": {},
   "outputs": [
    {
     "name": "stdout",
     "output_type": "stream",
     "text": [
      "gythonProgramminP\n"
     ]
    }
   ],
   "source": [
    "s = \"PythonProgramming\"\n",
    "\n",
    "# Check if the string has at least two characters\n",
    "if len(s) >= 2:\n",
    "    new_string = s[-1] + s[1:-1] + s[0]\n",
    "else:\n",
    "    new_string = s\n",
    "\n",
    "print(new_string)\n"
   ]
  },
  {
   "cell_type": "markdown",
   "metadata": {},
   "source": [
    "## For the string s = \"PythonProgramming\", find and print the index of the first occurrence of the letter \"o\"."
   ]
  },
  {
   "cell_type": "code",
   "execution_count": 7,
   "metadata": {},
   "outputs": [
    {
     "name": "stdout",
     "output_type": "stream",
     "text": [
      "Index of 'o': 4\n"
     ]
    }
   ],
   "source": [
    "s = \"PythonProgramming\"\n",
    "\n",
    "# Find the index of the first occurrence of 'o'\n",
    "index_of_o = s.index('o')\n",
    "\n",
    "print(\"Index of 'o':\", index_of_o)\n"
   ]
  },
  {
   "cell_type": "markdown",
   "metadata": {},
   "source": [
    "## Given the string s = \"PythonProgramming\", create a new string where all occurrences of the letter \"o\" are replaced with the letter \"a\"."
   ]
  },
  {
   "cell_type": "code",
   "execution_count": 8,
   "metadata": {},
   "outputs": [
    {
     "name": "stdout",
     "output_type": "stream",
     "text": [
      "PythanPragramming\n"
     ]
    }
   ],
   "source": [
    "s = \"PythonProgramming\"\n",
    "\n",
    "# Replace all 'o' with 'a'\n",
    "new_string = s.replace('o', 'a')\n",
    "\n",
    "print(new_string)\n"
   ]
  },
  {
   "cell_type": "markdown",
   "metadata": {},
   "source": [
    "## For the string s = \"PythonProgramming\", split the string into two equal halves. If the string has an odd length, the first half should have one more character than the second half."
   ]
  },
  {
   "cell_type": "code",
   "execution_count": 9,
   "metadata": {},
   "outputs": [
    {
     "name": "stdout",
     "output_type": "stream",
     "text": [
      "First half: PythonPro\n",
      "Second half: gramming\n"
     ]
    }
   ],
   "source": [
    "s = \"PythonProgramming\"\n",
    "\n",
    "# Calculate the length of the string\n",
    "length = len(s)\n",
    "\n",
    "# Calculate the midpoint index\n",
    "midpoint = length // 2\n",
    "\n",
    "# Split the string into two halves\n",
    "first_half = s[:midpoint + length % 2]\n",
    "second_half = s[midpoint + length % 2:]\n",
    "\n",
    "print(\"First half:\", first_half)\n",
    "print(\"Second half:\", second_half)\n"
   ]
  },
  {
   "cell_type": "markdown",
   "metadata": {},
   "source": [
    "## Given the string s = \"Python\", t = \"lool\", check if the string is a palindrome. A palindrome is a word, phrase, number, or other sequences of characters that reads the same forward and backward (ignoring spaces, punctuation, and capitalization)."
   ]
  },
  {
   "cell_type": "code",
   "execution_count": 11,
   "metadata": {},
   "outputs": [
    {
     "name": "stdout",
     "output_type": "stream",
     "text": [
      "'Python' is a palindrome: False\n"
     ]
    }
   ],
   "source": [
    "def is_palindrome(s):\n",
    "    # Remove spaces and punctuation and convert to lowercase\n",
    "    s = ''.join(e for e in s if e.isalnum()).lower()\n",
    "    \n",
    "    # Compare the original string with its reverse\n",
    "    return s == s[::-1]\n",
    "\n",
    "# Test the function with the given strings\n",
    "s = \"Python\"\n",
    "\n",
    "result_s = is_palindrome(s)\n",
    "print(f\"'{s}' is a palindrome: {result_s}\")\n"
   ]
  },
  {
   "cell_type": "code",
   "execution_count": 12,
   "metadata": {},
   "outputs": [
    {
     "name": "stdout",
     "output_type": "stream",
     "text": [
      "'lool' is a palindrome: True\n"
     ]
    }
   ],
   "source": [
    "t = \"lool\"\n",
    "\n",
    "result_t = is_palindrome(t)\n",
    "\n",
    "print(f\"'{t}' is a palindrome: {result_t}\")\n"
   ]
  },
  {
   "cell_type": "markdown",
   "metadata": {},
   "source": [
    "# Practise Number"
   ]
  },
  {
   "cell_type": "markdown",
   "metadata": {},
   "source": [
    "## Given two numbers a = 25 and b = 7, write a program to find the quotient and remainder when a is divided by b."
   ]
  },
  {
   "cell_type": "code",
   "execution_count": 13,
   "metadata": {},
   "outputs": [
    {
     "name": "stdout",
     "output_type": "stream",
     "text": [
      "Quotient: 3\n",
      "Remainder: 4\n"
     ]
    }
   ],
   "source": [
    "# Define the numbers\n",
    "a = 25\n",
    "b = 7\n",
    "\n",
    "# Calculate the quotient and remainder\n",
    "quotient = a // b\n",
    "remainder = a % b\n",
    "\n",
    "# Print the results\n",
    "print(\"Quotient:\", quotient)\n",
    "print(\"Remainder:\", remainder)\n"
   ]
  },
  {
   "cell_type": "markdown",
   "metadata": {},
   "source": [
    "## Check if a number n1 = 123, n2 = 122 are even or odd."
   ]
  },
  {
   "cell_type": "code",
   "execution_count": 15,
   "metadata": {},
   "outputs": [
    {
     "name": "stdout",
     "output_type": "stream",
     "text": [
      "123 is odd\n"
     ]
    }
   ],
   "source": [
    "n1 = 123\n",
    "\n",
    "# Check if n1 is even or odd\n",
    "if n1 % 2 == 0:\n",
    "    print(f\"{n1} is even\")\n",
    "else:\n",
    "    print(f\"{n1} is odd\")\n",
    "\n"
   ]
  },
  {
   "cell_type": "code",
   "execution_count": 16,
   "metadata": {},
   "outputs": [
    {
     "name": "stdout",
     "output_type": "stream",
     "text": [
      "122 is even\n"
     ]
    }
   ],
   "source": [
    "n2 = 122\n",
    "\n",
    "# Check if n2 is even or odd\n",
    "if n2 % 2 == 0:\n",
    "    print(f\"{n2} is even\")\n",
    "else:\n",
    "    print(f\"{n2} is odd\")\n"
   ]
  },
  {
   "cell_type": "markdown",
   "metadata": {},
   "source": [
    "## Given a number n = 4567, find the last two digits of the number"
   ]
  },
  {
   "cell_type": "code",
   "execution_count": 17,
   "metadata": {},
   "outputs": [
    {
     "name": "stdout",
     "output_type": "stream",
     "text": [
      "Last two digits: 67\n"
     ]
    }
   ],
   "source": [
    "n = 4567\n",
    "\n",
    "# Find the last two digits\n",
    "last_two_digits = n % 100\n",
    "\n",
    "print(\"Last two digits:\", last_two_digits)\n"
   ]
  },
  {
   "cell_type": "markdown",
   "metadata": {},
   "source": [
    "# Practise Formatting"
   ]
  },
  {
   "cell_type": "markdown",
   "metadata": {},
   "source": [
    "## Given two variables name = \"Alice\" and age = 30, use an f-string to print the following message: \"Hello, my name is Alice and I am 30 years old.\""
   ]
  },
  {
   "cell_type": "code",
   "execution_count": 18,
   "metadata": {},
   "outputs": [
    {
     "name": "stdout",
     "output_type": "stream",
     "text": [
      "Hello, my name is Alice and I am 30 years old.\n"
     ]
    }
   ],
   "source": [
    "name = \"Alice\"\n",
    "age = 30\n",
    "\n",
    "message = f\"Hello, my name is {name} and I am {age} years old.\"\n",
    "print(message)\n"
   ]
  },
  {
   "cell_type": "markdown",
   "metadata": {},
   "source": [
    "## Given two variables hours = 5 and rate = 20, use an f-string to calculate and print the total pay. The message should be: \"For 5 hours of work at $20 per hour, you will earn $100.\""
   ]
  },
  {
   "cell_type": "code",
   "execution_count": 19,
   "metadata": {},
   "outputs": [
    {
     "name": "stdout",
     "output_type": "stream",
     "text": [
      "For 5 hours of work at $20 per hour, you will earn $100.\n"
     ]
    }
   ],
   "source": [
    "hours = 5\n",
    "rate = 20\n",
    "\n",
    "total_pay = hours * rate\n",
    "message = f\"For {hours} hours of work at ${rate} per hour, you will earn ${total_pay}.\"\n",
    "print(message)\n"
   ]
  },
  {
   "cell_type": "markdown",
   "metadata": {},
   "source": [
    "# Practise List"
   ]
  },
  {
   "cell_type": "markdown",
   "metadata": {},
   "source": [
    "## Given a list fruits = [\"apple\", \"banana\", \"cherry\"], add the fruit \"orange\" to the end of the list."
   ]
  },
  {
   "cell_type": "code",
   "execution_count": 20,
   "metadata": {},
   "outputs": [
    {
     "name": "stdout",
     "output_type": "stream",
     "text": [
      "['apple', 'banana', 'cherry', 'orange']\n"
     ]
    }
   ],
   "source": [
    "fruits = [\"apple\", \"banana\", \"cherry\"]\n",
    "\n",
    "# Add \"orange\" to the end of the list\n",
    "fruits.append(\"orange\")\n",
    "\n",
    "print(fruits)\n"
   ]
  },
  {
   "cell_type": "markdown",
   "metadata": {},
   "source": [
    "## Given a list colors = [\"red\", \"blue\", \"green\"], insert the color \"yellow\" at the second position."
   ]
  },
  {
   "cell_type": "code",
   "execution_count": 21,
   "metadata": {},
   "outputs": [
    {
     "name": "stdout",
     "output_type": "stream",
     "text": [
      "['red', 'yellow', 'blue', 'green']\n"
     ]
    }
   ],
   "source": [
    "colors = [\"red\", \"blue\", \"green\"]\n",
    "\n",
    "# Insert \"yellow\" at the second position (index 1)\n",
    "colors.insert(1, \"yellow\")\n",
    "\n",
    "print(colors)\n"
   ]
  },
  {
   "cell_type": "markdown",
   "metadata": {},
   "source": [
    "## Given a list items = [10, 20, 30, 40, 50], remove the third item from the list."
   ]
  },
  {
   "cell_type": "code",
   "execution_count": 22,
   "metadata": {},
   "outputs": [
    {
     "name": "stdout",
     "output_type": "stream",
     "text": [
      "[10, 20, 40, 50]\n"
     ]
    }
   ],
   "source": [
    "items = [10, 20, 30, 40, 50]\n",
    "\n",
    "# Remove the third item (index 2)\n",
    "items.pop(2)\n",
    "\n",
    "print(items)\n",
    "\n"
   ]
  },
  {
   "cell_type": "markdown",
   "metadata": {},
   "source": [
    "## remove empty strings from the list of strings.\n",
    "    list1 = [”hello”, ””, ”python”, ”class”, ””, ”FE520”]"
   ]
  },
  {
   "cell_type": "code",
   "execution_count": 23,
   "metadata": {},
   "outputs": [
    {
     "name": "stdout",
     "output_type": "stream",
     "text": [
      "['hello', 'python', 'class', 'FE520']\n"
     ]
    }
   ],
   "source": [
    "list1 = [\"hello\", \"\", \"python\", \"class\", \"\", \"FE520\"]\n",
    "\n",
    "# Use a list comprehension to filter out empty strings\n",
    "list1 = [s for s in list1 if s != \"\"]\n",
    "\n",
    "print(list1)\n"
   ]
  },
  {
   "cell_type": "markdown",
   "metadata": {},
   "source": [
    "## add new item to list after a specified item\n",
    "    list1 = [10, 20, [600, 700, [8000, 9000], 500], 50, 60]\n",
    "    The expected output is [10, 20, [600, 700, [8000, 9000, 999], 500], 50, 60"
   ]
  },
  {
   "cell_type": "code",
   "execution_count": 24,
   "metadata": {},
   "outputs": [
    {
     "name": "stdout",
     "output_type": "stream",
     "text": [
      "[10, 20, [600, 700, [8000, 9000], 999, 500], 50, 60]\n"
     ]
    }
   ],
   "source": [
    "def insert_item(lst, target, new_item):\n",
    "    for i, item in enumerate(lst):\n",
    "        if item == target:\n",
    "            # Insert the new item after the target item\n",
    "            lst.insert(i + 1, new_item)\n",
    "        elif isinstance(item, list):\n",
    "            # Recursively search within nested lists\n",
    "            insert_item(item, target, new_item)\n",
    "\n",
    "list1 = [10, 20, [600, 700, [8000, 9000], 500], 50, 60]\n",
    "\n",
    "# Call the function to insert 999 after [8000, 9000]\n",
    "insert_item(list1, [8000, 9000], 999)\n",
    "\n",
    "print(list1)\n"
   ]
  },
  {
   "cell_type": "markdown",
   "metadata": {},
   "source": [
    "## List copy\n",
    "    list1 = [’a’, ’b’, ’c’, ’d’]\n",
    "    Use list1 to create another list with same elements list2 such that when we change\n",
    "    the first element of list2 from ’a’ to ’A’, the first element of list1 will not change\n",
    "    (i.e. it is still ’a’).\n",
    "    Show this process."
   ]
  },
  {
   "cell_type": "code",
   "execution_count": 25,
   "metadata": {},
   "outputs": [
    {
     "name": "stdout",
     "output_type": "stream",
     "text": [
      "list1: ['a', 'b', 'c', 'd']\n",
      "list2: ['A', 'b', 'c', 'd']\n"
     ]
    }
   ],
   "source": [
    "# Define list1\n",
    "list1 = ['a', 'b', 'c', 'd']\n",
    "\n",
    "# Create a shallow copy of list1\n",
    "list2 = list(list1)\n",
    "\n",
    "# Modify the first element of list2\n",
    "list2[0] = 'A'\n",
    "\n",
    "# Print both lists\n",
    "print(\"list1:\", list1)\n",
    "print(\"list2:\", list2)\n"
   ]
  },
  {
   "cell_type": "markdown",
   "metadata": {},
   "source": [
    "## List copy\n",
    "    list1 = [’a’, ’b’, ’c’, ’d’]\n",
    "    Use list1 to create another list with same elements list2 such that when we change\n",
    "    the first element of list2 from ’a’ to ’A’, the first element of list1 will not change\n",
    "    (i.e. it is still ’a’).\n",
    "    For this time, use different way with the previous question.\n",
    "    Show this process."
   ]
  },
  {
   "cell_type": "code",
   "execution_count": 26,
   "metadata": {},
   "outputs": [
    {
     "name": "stdout",
     "output_type": "stream",
     "text": [
      "list1: ['a', 'b', 'c', 'd']\n",
      "list2: ['A', 'b', 'c', 'd']\n"
     ]
    }
   ],
   "source": [
    "# Define list1\n",
    "list1 = ['a', 'b', 'c', 'd']\n",
    "\n",
    "# Create a new list2 with the same elements as list1\n",
    "list2 = list1[:]\n",
    "\n",
    "# Modify the first element of list2\n",
    "list2[0] = 'A'\n",
    "\n",
    "# Print both lists\n",
    "print(\"list1:\", list1)\n",
    "print(\"list2:\", list2)\n"
   ]
  }
 ],
 "metadata": {
  "kernelspec": {
   "display_name": "Python 3",
   "language": "python",
   "name": "python3"
  },
  "language_info": {
   "codemirror_mode": {
    "name": "ipython",
    "version": 3
   },
   "file_extension": ".py",
   "mimetype": "text/x-python",
   "name": "python",
   "nbconvert_exporter": "python",
   "pygments_lexer": "ipython3",
   "version": "3.10.11"
  },
  "toc": {
   "base_numbering": 1,
   "nav_menu": {},
   "number_sections": true,
   "sideBar": true,
   "skip_h1_title": false,
   "title_cell": "Table of Contents",
   "title_sidebar": "Contents",
   "toc_cell": true,
   "toc_position": {},
   "toc_section_display": true,
   "toc_window_display": true
  }
 },
 "nbformat": 4,
 "nbformat_minor": 4
}
