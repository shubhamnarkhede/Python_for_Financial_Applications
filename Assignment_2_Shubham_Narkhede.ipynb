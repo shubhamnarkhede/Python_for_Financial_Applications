{
 "cells": [
  {
   "cell_type": "markdown",
   "metadata": {},
   "source": [
    "# 1 Loop Practice: Gradient Decent (30 pts)\n",
    "\n",
    "    In statistics, linear regression is a linear approach to modelling the relationship between a dependent variable and one or more independent variables. Let X be the independent variable and Y be the dependent variable. We will define a linear relationship between these two variables as follows:\n",
    "        Y = wX + c\n",
    "    This is the equation for a line that you studied in high school. w is the slope of the line and c is the y intercept. Today we will use this equation to train our model with a given dataset and predict the value of Y for any given value of X.Our challenge today is to determine the value of w and c, such that the line corre-sponding to those values is the best fitting line or gives the minimum error. One way to solve this problem is to use Gradient Decent (The reference here contain more details of Gradient decent and sample code, try not use numpy in this question):\n",
    "\n",
    "    You don’t need the knowledge of optimization to finish the question. Please just implement the following algorithm step by step. The Algorithm of gradient decent to find w and c is :\n",
    "\n",
    "        1.Set initial variable. w=0 and c=0, Learning rate L=0.001, number of iterations.\n",
    "        2. Write a for loop, in this loop, go over all pair (xi, yi):\n",
    "        (a) calculate ypred\n",
    "        i = xi ∗ w + c\n",
    "        (b) calculate xi(ypred\n",
    "        i − yi), and store it in list Dw\n",
    "        (c) calculate (ypred\n",
    "        i − yi), and store it in list Dc\n",
    "        3. calculate the average for list Dw and Dc, and assign the values to dw and dc\n",
    "        respectively.\n",
    "        4. update m by: w = w − L × dw\n",
    "        5. update c by: c = c − L × dc\n",
    "        6. (Bonus 3 pts) What you have done above are one iteration of gradient descent,\n",
    "        once you repeat from step 2 to 5 again and again, the w and c will be converged\n",
    "        to the true value. Can you wrap them in big loop for 200 iteration?\n",
    "        you can test your result by using following dataset\n",
    "        input:\n",
    "        x = [0.18, 1.0, 0.92, 0.07, 0.85, 0.99, 0.87]\n",
    "        y = [109.85, 155.72, 137.66, 76.17, 139.75, 162.6, 151.77]\n",
    "        Output:\n",
    "        for one iteration\n",
    "        w = 0.10275336, c = 0.13336\n",
    "        for 200 iterations:\n",
    "        w = 17.72481065, c = 22.97599012903927"
   ]
  },
  {
   "cell_type": "code",
   "execution_count": 21,
   "metadata": {},
   "outputs": [],
   "source": [
    "# Define the input data\n",
    "x = [0.18, 1.0, 0.92, 0.07, 0.85, 0.99, 0.87]\n",
    "y = [109.85, 155.72, 137.66, 76.17, 139.75, 162.6, 151.77]\n"
   ]
  },
  {
   "cell_type": "code",
   "execution_count": 40,
   "metadata": {},
   "outputs": [
    {
     "name": "stdout",
     "output_type": "stream",
     "text": [
      "w = 0.10275335714285715\n",
      "c = 0.13336\n"
     ]
    }
   ],
   "source": [
    "#Set varibales \n",
    "w = 0\n",
    "c = 0\n",
    "learning_rate = 0.001\n",
    "iterations = 200\n",
    "dw = 0\n",
    "dc = 0\n",
    "\n",
    "#Loop to do calculation on all datapoint\n",
    "for xi, yi in zip(x, y):\n",
    "    y_pred = xi * w + c\n",
    "    dw += xi * (y_pred - yi)\n",
    "    dc += (y_pred - yi)\n",
    "    \n",
    "dw /= len(x)\n",
    "dc /= len(x)\n",
    "w -= learning_rate * dw\n",
    "c -= learning_rate * dc\n",
    "\n",
    "\n",
    "# Print the result\n",
    "print(\"w =\", w)\n",
    "print(\"c =\", c)\n"
   ]
  },
  {
   "cell_type": "markdown",
   "metadata": {},
   "source": [
    "BONUS"
   ]
  },
  {
   "cell_type": "code",
   "execution_count": 41,
   "metadata": {},
   "outputs": [
    {
     "name": "stdout",
     "output_type": "stream",
     "text": [
      "w = 17.724810647355827\n",
      "c = 22.97599012903927\n"
     ]
    }
   ],
   "source": [
    "w = 0\n",
    "c = 0\n",
    "\n",
    "# Implement gradient descent for 200 iteration\n",
    "for _ in range(iterations):\n",
    "    dw = 0\n",
    "    dc = 0\n",
    "    for xi, yi in zip(x, y):\n",
    "        y_pred = xi * w + c\n",
    "        dw += xi * (y_pred - yi)\n",
    "        dc += (y_pred - yi)\n",
    "    dw /= len(x)\n",
    "    dc /= len(x)\n",
    "    w -= learning_rate * dw\n",
    "    c -= learning_rate * dc\n",
    "\n",
    "# Print the result\n",
    "print(\"w =\", w)\n",
    "print(\"c =\", c)\n"
   ]
  },
  {
   "cell_type": "markdown",
   "metadata": {},
   "source": [
    "# 2 Control Flow Practice: Element-wise logical opera-tions (30 pts)\n",
    "    \n",
    "        1. (10 pts) Given two same-length lists of bool-type variables (True/False), you need to implement the element-wise and, or, and not operations. Element-wise means the operations are applied to each pair of two element, and the results form another list. \n",
    "        In the following sample code, the first element in result and is False because x[0] and y[0] equals False (True and False == False). Complete the following code to obtain the three lists.\n",
    "        x = [True, True, False, False, True, False, True]\n",
    "        y = [False, True, True, True, False, False, True]\n",
    "        <complete the code>\n",
    "        # return three lists: result_and, result_or, result_not_x which are\n",
    "        # respectively the result of element-wise AND, element-wise OR,\n",
    "        # and element-wise NOT\n",
    "        # result_and is [False, True, False, False, False, False, True]\n",
    "        # result_or is [True, True, True, True, True, False, True]\n",
    "        # result_not_x is [False, False, True, True, False, True, False]\n",
    "        \n",
    "        You need to use FOR loop to do this. A hint is to check zip() function which can zip two same-length lists to pairs. Check the link: https://docs.python.org/3.7/library/functions.html#zip.\n",
    "        \n",
    "        \n"
   ]
  },
  {
   "cell_type": "code",
   "execution_count": 2,
   "metadata": {},
   "outputs": [],
   "source": [
    "x = [True, True, False, False, True, False, True]\n",
    "y = [False, True, True, True, False, False, True]\n"
   ]
  },
  {
   "cell_type": "code",
   "execution_count": 3,
   "metadata": {},
   "outputs": [
    {
     "name": "stdout",
     "output_type": "stream",
     "text": [
      "result_and = [False, True, False, False, False, False, True]\n",
      "result_or = [True, True, True, True, True, False, True]\n",
      "result_not_x = [False, False, True, True, False, True, False]\n"
     ]
    }
   ],
   "source": [
    "\n",
    "# Initialize result lists\n",
    "result_and = []\n",
    "result_or = []\n",
    "result_not_x = []\n",
    "\n",
    "# Perform element-wise AND, OR, and NOT using for loop and zip\n",
    "for x_val, y_val in zip(x, y):\n",
    "    result_and.append(x_val and y_val)\n",
    "    result_or.append(x_val or y_val)\n",
    "    result_not_x.append(not x_val)\n",
    "\n",
    "# Print the results\n",
    "print(\"result_and =\", result_and)\n",
    "print(\"result_or =\", result_or)\n",
    "print(\"result_not_x =\", result_not_x)\n"
   ]
  },
  {
   "cell_type": "markdown",
   "metadata": {},
   "source": [
    "2.2\n",
    "    \n",
    "(10 pts) Implement another operation: given a list of bool-type variables If True takes 40% or more of the total number of element of this list,give True as the result, otherwise give False. For an example,\n",
    "\n",
    "            x = [True, True, False, False, True]\n",
    "\n",
    "            y = [True, False, False, False, False]\n",
    "\n",
    "            # your code gives True for x, as True takes 3/5 (60%>=40%)\n",
    "\n",
    "            # your code gives False for y, as True takes 1/5 (20%<40%)\n"
   ]
  },
  {
   "cell_type": "code",
   "execution_count": 5,
   "metadata": {},
   "outputs": [],
   "source": [
    "def check_majority_true(lst):\n",
    "    true_count = lst.count(True)\n",
    "    return true_count / len(lst) >= 0.4\n"
   ]
  },
  {
   "cell_type": "code",
   "execution_count": 7,
   "metadata": {},
   "outputs": [],
   "source": [
    "x = [True, True, False, False, True]\n",
    "y = [True, False, False, False, False]"
   ]
  },
  {
   "cell_type": "code",
   "execution_count": 9,
   "metadata": {},
   "outputs": [
    {
     "name": "stdout",
     "output_type": "stream",
     "text": [
      "Result for x: True\n",
      "Result for y: False\n"
     ]
    }
   ],
   "source": [
    "result_x = check_majority_true(x)\n",
    "result_y = check_majority_true(y)\n",
    "\n",
    "print(\"Result for x:\", result_x)\n",
    "print(\"Result for y:\", result_y)"
   ]
  },
  {
   "cell_type": "markdown",
   "metadata": {},
   "source": [
    "# 3 Practice Dictionary (20 pts)\n",
    "        1. (2pts) Define a string of ‘python is an interpreted dynamic programming language’\n",
    "        2. (3pts) Create a list (list A) of single-character strings out of the above string in 1 (e.g., ’hello’->[’h’, ’e’, ’l’, ’l’, ’o’]).\n",
    "        3. (8pts) Write a loop to count the number of each unique character(ignore spaces) into dictionary, where your keys are characters in the list A, and value is the count corresponding to each character. Your result should look like : {’h’: 1, ’e’: 1, ’l’: 2, ’o’: 1}.\n",
    "        4. (7pts) Print the characters which shows up more than 1 time. (Hint: use loop and\n",
    "        if statement)."
   ]
  },
  {
   "cell_type": "code",
   "execution_count": 10,
   "metadata": {},
   "outputs": [],
   "source": [
    "input_string = 'python is an interpreted dynamic programming language'\n"
   ]
  },
  {
   "cell_type": "code",
   "execution_count": 11,
   "metadata": {},
   "outputs": [],
   "source": [
    "list_A = [char for char in input_string if char != ' ']\n"
   ]
  },
  {
   "cell_type": "code",
   "execution_count": 12,
   "metadata": {},
   "outputs": [
    {
     "data": {
      "text/plain": [
       "['p',\n",
       " 'y',\n",
       " 't',\n",
       " 'h',\n",
       " 'o',\n",
       " 'n',\n",
       " 'i',\n",
       " 's',\n",
       " 'a',\n",
       " 'n',\n",
       " 'i',\n",
       " 'n',\n",
       " 't',\n",
       " 'e',\n",
       " 'r',\n",
       " 'p',\n",
       " 'r',\n",
       " 'e',\n",
       " 't',\n",
       " 'e',\n",
       " 'd',\n",
       " 'd',\n",
       " 'y',\n",
       " 'n',\n",
       " 'a',\n",
       " 'm',\n",
       " 'i',\n",
       " 'c',\n",
       " 'p',\n",
       " 'r',\n",
       " 'o',\n",
       " 'g',\n",
       " 'r',\n",
       " 'a',\n",
       " 'm',\n",
       " 'm',\n",
       " 'i',\n",
       " 'n',\n",
       " 'g',\n",
       " 'l',\n",
       " 'a',\n",
       " 'n',\n",
       " 'g',\n",
       " 'u',\n",
       " 'a',\n",
       " 'g',\n",
       " 'e']"
      ]
     },
     "execution_count": 12,
     "metadata": {},
     "output_type": "execute_result"
    }
   ],
   "source": [
    "list_A"
   ]
  },
  {
   "cell_type": "code",
   "execution_count": 15,
   "metadata": {},
   "outputs": [
    {
     "name": "stdout",
     "output_type": "stream",
     "text": [
      "{'p': 3, 'y': 2, 't': 3, 'h': 1, 'o': 2, 'n': 6, 'i': 4, 's': 1, 'a': 5, 'e': 4, 'r': 4, 'd': 2, 'm': 3, 'c': 1, 'g': 4, 'l': 1, 'u': 1}\n"
     ]
    }
   ],
   "source": [
    "# Initialize an empty dictionary to store character counts\n",
    "char_count = {}\n",
    "\n",
    "# Iterate through the characters in list_A\n",
    "for char in list_A:\n",
    "    # Check if the character is already in the dictionary\n",
    "    if char in char_count:\n",
    "        # If it is, increment the count\n",
    "        char_count[char] += 1\n",
    "    else:\n",
    "        # If it's not, add it to the dictionary with a count of 1\n",
    "        char_count[char] = 1\n",
    "\n",
    "# Print the character counts\n",
    "print(char_count)\n"
   ]
  },
  {
   "cell_type": "code",
   "execution_count": 16,
   "metadata": {},
   "outputs": [
    {
     "name": "stdout",
     "output_type": "stream",
     "text": [
      "p\n",
      "y\n",
      "t\n",
      "o\n",
      "n\n",
      "i\n",
      "a\n",
      "e\n",
      "r\n",
      "d\n",
      "m\n",
      "g\n"
     ]
    }
   ],
   "source": [
    "for char, count in char_count.items():\n",
    "    if count > 1:\n",
    "        print(char)\n"
   ]
  },
  {
   "cell_type": "markdown",
   "metadata": {},
   "source": [
    "# 4 Loop Practice: Sum (20 pts)\n",
    "\n",
    "Write a loop for calculate the average of a list. For example: if you have a  list A = [1, 2, 3, 4, 5, 6], after your loop calculation, you need to get a total num equals to 3.5.\n"
   ]
  },
  {
   "cell_type": "code",
   "execution_count": 17,
   "metadata": {},
   "outputs": [],
   "source": [
    "# Define a list\n",
    "A = [1, 2, 3, 4, 5, 6]\n"
   ]
  },
  {
   "cell_type": "code",
   "execution_count": 18,
   "metadata": {},
   "outputs": [
    {
     "name": "stdout",
     "output_type": "stream",
     "text": [
      "Average: 3.5\n"
     ]
    }
   ],
   "source": [
    "# Initialize variables for sum and count\n",
    "total_sum = 0\n",
    "count = 0\n",
    "\n",
    "# Calculate the sum and count using a loop\n",
    "for num in A:\n",
    "    total_sum += num\n",
    "    count += 1\n",
    "\n",
    "# Calculate the average\n",
    "average = total_sum / count\n",
    "\n",
    "# Print the average\n",
    "print(\"Average:\", average)\n"
   ]
  }
 ],
 "metadata": {
  "kernelspec": {
   "display_name": "Python 3",
   "language": "python",
   "name": "python3"
  },
  "language_info": {
   "codemirror_mode": {
    "name": "ipython",
    "version": 3
   },
   "file_extension": ".py",
   "mimetype": "text/x-python",
   "name": "python",
   "nbconvert_exporter": "python",
   "pygments_lexer": "ipython3",
   "version": "3.10.11"
  }
 },
 "nbformat": 4,
 "nbformat_minor": 2
}
